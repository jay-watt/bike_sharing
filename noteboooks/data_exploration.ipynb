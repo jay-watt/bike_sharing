{
 "cells": [
  {
   "cell_type": "code",
   "execution_count": 15,
   "metadata": {},
   "outputs": [
    {
     "name": "stdout",
     "output_type": "stream",
     "text": [
      "Train Data:\n",
      "             datetime  season  holiday  workingday  weather  temp   atemp  \\\n",
      "0 2011-01-01 00:00:00       1        0           0        1  9.84  14.395   \n",
      "1 2011-01-01 01:00:00       1        0           0        1  9.02  13.635   \n",
      "2 2011-01-01 02:00:00       1        0           0        1  9.02  13.635   \n",
      "3 2011-01-01 03:00:00       1        0           0        1  9.84  14.395   \n",
      "4 2011-01-01 04:00:00       1        0           0        1  9.84  14.395   \n",
      "\n",
      "   humidity  windspeed  casual  registered  count  \n",
      "0        81        0.0       3          13     16  \n",
      "1        80        0.0       8          32     40  \n",
      "2        80        0.0       5          27     32  \n",
      "3        75        0.0       3          10     13  \n",
      "4        75        0.0       0           1      1  \n",
      "\n",
      "Test Data:\n",
      "             datetime  season  holiday  workingday  weather   temp   atemp  \\\n",
      "0 2011-01-20 00:00:00       1        0           1        1  10.66  11.365   \n",
      "1 2011-01-20 01:00:00       1        0           1        1  10.66  13.635   \n",
      "2 2011-01-20 02:00:00       1        0           1        1  10.66  13.635   \n",
      "3 2011-01-20 03:00:00       1        0           1        1  10.66  12.880   \n",
      "4 2011-01-20 04:00:00       1        0           1        1  10.66  12.880   \n",
      "\n",
      "   humidity  windspeed  \n",
      "0        56    26.0027  \n",
      "1        56     0.0000  \n",
      "2        56     0.0000  \n",
      "3        56    11.0014  \n",
      "4        56    11.0014  \n"
     ]
    }
   ],
   "source": [
    "# fmt:off\n",
    "import sys\n",
    "import os\n",
    "\n",
    "# Add the src directory to the Python path\n",
    "sys.path.append(os.path.abspath(os.path.join('..', 'src')))\n",
    "\n",
    "# Import the function from the data_processing module\n",
    "from data_processing import load_train_and_test_data\n",
    "# fmt:on\n",
    "\n",
    "# Load data\n",
    "train_data, test_data = load_train_and_test_data()\n",
    "\n",
    "# Inspect data\n",
    "print(\"Train Data:\")\n",
    "print(train_data.head())\n",
    "print()\n",
    "print(\"Test Data:\")\n",
    "print(test_data.head())"
   ]
  },
  {
   "cell_type": "code",
   "execution_count": 16,
   "metadata": {},
   "outputs": [
    {
     "name": "stdout",
     "output_type": "stream",
     "text": [
      "Train Data:\n",
      "<class 'pandas.core.frame.DataFrame'>\n",
      "RangeIndex: 10886 entries, 0 to 10885\n",
      "Data columns (total 12 columns):\n",
      " #   Column      Non-Null Count  Dtype         \n",
      "---  ------      --------------  -----         \n",
      " 0   datetime    10886 non-null  datetime64[ns]\n",
      " 1   season      10886 non-null  int64         \n",
      " 2   holiday     10886 non-null  int64         \n",
      " 3   workingday  10886 non-null  int64         \n",
      " 4   weather     10886 non-null  int64         \n",
      " 5   temp        10886 non-null  float64       \n",
      " 6   atemp       10886 non-null  float64       \n",
      " 7   humidity    10886 non-null  int64         \n",
      " 8   windspeed   10886 non-null  float64       \n",
      " 9   casual      10886 non-null  int64         \n",
      " 10  registered  10886 non-null  int64         \n",
      " 11  count       10886 non-null  int64         \n",
      "dtypes: datetime64[ns](1), float64(3), int64(8)\n",
      "memory usage: 1020.7 KB\n",
      "None\n",
      "\n",
      "Test Data:\n",
      "<class 'pandas.core.frame.DataFrame'>\n",
      "RangeIndex: 6493 entries, 0 to 6492\n",
      "Data columns (total 9 columns):\n",
      " #   Column      Non-Null Count  Dtype         \n",
      "---  ------      --------------  -----         \n",
      " 0   datetime    6493 non-null   datetime64[ns]\n",
      " 1   season      6493 non-null   int64         \n",
      " 2   holiday     6493 non-null   int64         \n",
      " 3   workingday  6493 non-null   int64         \n",
      " 4   weather     6493 non-null   int64         \n",
      " 5   temp        6493 non-null   float64       \n",
      " 6   atemp       6493 non-null   float64       \n",
      " 7   humidity    6493 non-null   int64         \n",
      " 8   windspeed   6493 non-null   float64       \n",
      "dtypes: datetime64[ns](1), float64(3), int64(5)\n",
      "memory usage: 456.7 KB\n",
      "None\n"
     ]
    }
   ],
   "source": [
    "# Check data types and identify missing values\n",
    "print(\"Train Data:\")\n",
    "print(train_data.info())\n",
    "print()\n",
    "print(\"Test Data:\")\n",
    "print(test_data.info())"
   ]
  },
  {
   "cell_type": "code",
   "execution_count": 17,
   "metadata": {},
   "outputs": [
    {
     "name": "stdout",
     "output_type": "stream",
     "text": [
      "Train Data:\n",
      "                            datetime        season       holiday  \\\n",
      "count                          10886  10886.000000  10886.000000   \n",
      "mean   2011-12-27 05:56:22.399411968      2.506614      0.028569   \n",
      "min              2011-01-01 00:00:00      1.000000      0.000000   \n",
      "25%              2011-07-02 07:15:00      2.000000      0.000000   \n",
      "50%              2012-01-01 20:30:00      3.000000      0.000000   \n",
      "75%              2012-07-01 12:45:00      4.000000      0.000000   \n",
      "max              2012-12-19 23:00:00      4.000000      1.000000   \n",
      "std                              NaN      1.116174      0.166599   \n",
      "\n",
      "         workingday       weather         temp         atemp      humidity  \\\n",
      "count  10886.000000  10886.000000  10886.00000  10886.000000  10886.000000   \n",
      "mean       0.680875      1.418427     20.23086     23.655084     61.886460   \n",
      "min        0.000000      1.000000      0.82000      0.760000      0.000000   \n",
      "25%        0.000000      1.000000     13.94000     16.665000     47.000000   \n",
      "50%        1.000000      1.000000     20.50000     24.240000     62.000000   \n",
      "75%        1.000000      2.000000     26.24000     31.060000     77.000000   \n",
      "max        1.000000      4.000000     41.00000     45.455000    100.000000   \n",
      "std        0.466159      0.633839      7.79159      8.474601     19.245033   \n",
      "\n",
      "          windspeed        casual    registered         count  \n",
      "count  10886.000000  10886.000000  10886.000000  10886.000000  \n",
      "mean      12.799395     36.021955    155.552177    191.574132  \n",
      "min        0.000000      0.000000      0.000000      1.000000  \n",
      "25%        7.001500      4.000000     36.000000     42.000000  \n",
      "50%       12.998000     17.000000    118.000000    145.000000  \n",
      "75%       16.997900     49.000000    222.000000    284.000000  \n",
      "max       56.996900    367.000000    886.000000    977.000000  \n",
      "std        8.164537     49.960477    151.039033    181.144454  \n"
     ]
    }
   ],
   "source": [
    "# View train data basic statistics\n",
    "print(train_data.describe())"
   ]
  },
  {
   "cell_type": "code",
   "execution_count": 18,
   "metadata": {},
   "outputs": [
    {
     "name": "stdout",
     "output_type": "stream",
     "text": [
      "Train Data:\n",
      "0\n",
      "\n",
      "Test Data:\n",
      "0\n"
     ]
    }
   ],
   "source": [
    "# Check for duplicate rows\n",
    "print(\"Train Data:\")\n",
    "print(train_data.duplicated().sum())\n",
    "print()\n",
    "print(\"Test Data:\")\n",
    "print(test_data.duplicated().sum())"
   ]
  }
 ],
 "metadata": {
  "kernelspec": {
   "display_name": "venv",
   "language": "python",
   "name": "python3"
  },
  "language_info": {
   "codemirror_mode": {
    "name": "ipython",
    "version": 3
   },
   "file_extension": ".py",
   "mimetype": "text/x-python",
   "name": "python",
   "nbconvert_exporter": "python",
   "pygments_lexer": "ipython3",
   "version": "3.11.9"
  }
 },
 "nbformat": 4,
 "nbformat_minor": 2
}
