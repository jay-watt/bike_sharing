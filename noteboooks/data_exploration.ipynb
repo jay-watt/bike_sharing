{
 "cells": [
  {
   "cell_type": "code",
   "execution_count": 5,
   "metadata": {},
   "outputs": [
    {
     "name": "stdout",
     "output_type": "stream",
     "text": [
      "Train Data:\n",
      "             datetime  season  holiday  workingday  weather  temp   atemp  \\\n",
      "0 2011-01-01 00:00:00       1        0           0        1  9.84  14.395   \n",
      "1 2011-01-01 01:00:00       1        0           0        1  9.02  13.635   \n",
      "2 2011-01-01 02:00:00       1        0           0        1  9.02  13.635   \n",
      "3 2011-01-01 03:00:00       1        0           0        1  9.84  14.395   \n",
      "4 2011-01-01 04:00:00       1        0           0        1  9.84  14.395   \n",
      "\n",
      "   humidity  windspeed  casual  registered  count  \n",
      "0        81        0.0       3          13     16  \n",
      "1        80        0.0       8          32     40  \n",
      "2        80        0.0       5          27     32  \n",
      "3        75        0.0       3          10     13  \n",
      "4        75        0.0       0           1      1  \n",
      "\n",
      "Test Data:\n",
      "             datetime  season  holiday  workingday  weather   temp   atemp  \\\n",
      "0 2011-01-20 00:00:00       1        0           1        1  10.66  11.365   \n",
      "1 2011-01-20 01:00:00       1        0           1        1  10.66  13.635   \n",
      "2 2011-01-20 02:00:00       1        0           1        1  10.66  13.635   \n",
      "3 2011-01-20 03:00:00       1        0           1        1  10.66  12.880   \n",
      "4 2011-01-20 04:00:00       1        0           1        1  10.66  12.880   \n",
      "\n",
      "   humidity  windspeed  \n",
      "0        56    26.0027  \n",
      "1        56     0.0000  \n",
      "2        56     0.0000  \n",
      "3        56    11.0014  \n",
      "4        56    11.0014  \n"
     ]
    }
   ],
   "source": [
    "# fmt:off\n",
    "import sys\n",
    "import os\n",
    "\n",
    "# Add the src directory to the Python path\n",
    "sys.path.append(os.path.abspath(os.path.join('..', 'src')))\n",
    "\n",
    "# Import the function from the data_processing module\n",
    "from data_processing import load_train_and_test_data\n",
    "# fmt:on\n",
    "\n",
    "# Load data\n",
    "train_data, test_data = load_train_and_test_data()\n",
    "\n",
    "# Inspect data\n",
    "print(\"Train Data:\")\n",
    "print(train_data.head())\n",
    "\n",
    "print(\"\\nTest Data:\")\n",
    "print(test_data.head())"
   ]
  }
 ],
 "metadata": {
  "kernelspec": {
   "display_name": "venv",
   "language": "python",
   "name": "python3"
  },
  "language_info": {
   "codemirror_mode": {
    "name": "ipython",
    "version": 3
   },
   "file_extension": ".py",
   "mimetype": "text/x-python",
   "name": "python",
   "nbconvert_exporter": "python",
   "pygments_lexer": "ipython3",
   "version": "3.11.9"
  }
 },
 "nbformat": 4,
 "nbformat_minor": 2
}
